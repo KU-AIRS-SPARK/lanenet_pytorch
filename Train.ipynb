{
 "cells": [
  {
   "cell_type": "code",
   "execution_count": 1,
   "metadata": {},
   "outputs": [],
   "source": [
    "import torch\n",
    "import time\n",
    "from dataset.dataset_utils import TUSIMPLE\n",
    "from Lanenet.model2 import Lanenet"
   ]
  },
  {
   "cell_type": "markdown",
   "metadata": {},
   "source": [
    "# define the dataset"
   ]
  },
  {
   "cell_type": "code",
   "execution_count": 2,
   "metadata": {},
   "outputs": [
    {
     "name": "stdout",
     "output_type": "stream",
     "text": [
      "train_set length 396\n",
      "valid_set length 49\n",
      "test_set length 50\n"
     ]
    }
   ],
   "source": [
    "# root = '/Users/smiffy/Documents/GitHub/TUSIMPLE/Data_Tusimple_PyTorch/training'\n",
    "root = './TUSIMPLE/txt_for_local'\n",
    "train_set = TUSIMPLE(root=root, flag='train')\n",
    "valid_set = TUSIMPLE(root=root, flag='valid')\n",
    "test_set = TUSIMPLE(root=root, flag='test')\n",
    "\n",
    "print('train_set length {}'.format(len(train_set)))\n",
    "print('valid_set length {}'.format(len(valid_set)))\n",
    "print('test_set length {}'.format(len(test_set)))"
   ]
  },
  {
   "cell_type": "code",
   "execution_count": null,
   "metadata": {},
   "outputs": [],
   "source": []
  },
  {
   "cell_type": "code",
   "execution_count": 3,
   "metadata": {},
   "outputs": [
    {
     "name": "stdout",
     "output_type": "stream",
     "text": [
      "image type <class 'torch.Tensor'>\n",
      "image size torch.Size([3, 256, 512]) \n",
      "\n",
      "gt binary image type <class 'torch.Tensor'>\n",
      "gt binary image size torch.Size([256, 512])\n",
      "items in gt binary image tensor([0, 1]) \n",
      "\n",
      "gt instance type <class 'torch.Tensor'>\n",
      "gt instance size torch.Size([256, 512])\n",
      "items in gt instance tensor([ 0, 20]) \n",
      "\n"
     ]
    }
   ],
   "source": [
    "gt, bgt, igt = train_set[0]\n",
    "print('image type {}'.format(type(gt)))\n",
    "print('image size {} \\n'.format(gt.size()))\n",
    "\n",
    "print('gt binary image type {}'.format(type(bgt)))\n",
    "print('gt binary image size {}'.format(bgt.size()))\n",
    "print('items in gt binary image {} \\n'.format(torch.unique(bgt)))\n",
    "\n",
    "print('gt instance type {}'.format(type(igt)))\n",
    "print('gt instance size {}'.format(igt.size()))\n",
    "print('items in gt instance {} \\n'.format(torch.unique(igt)))"
   ]
  },
  {
   "cell_type": "markdown",
   "metadata": {},
   "source": [
    "# DataLoader"
   ]
  },
  {
   "cell_type": "code",
   "execution_count": 4,
   "metadata": {},
   "outputs": [],
   "source": [
    "batch_size = 8"
   ]
  },
  {
   "cell_type": "code",
   "execution_count": 5,
   "metadata": {},
   "outputs": [],
   "source": [
    "data_loader_train = torch.utils.data.DataLoader(train_set, batch_size=batch_size, shuffle=True, num_workers=0)\n",
    "data_loader_valid = torch.utils.data.DataLoader(valid_set, batch_size=1, shuffle=True, num_workers=0)\n",
    "data_loader_test = torch.utils.data.DataLoader(test_set, batch_size=1, shuffle=False, num_workers=0)"
   ]
  },
  {
   "cell_type": "markdown",
   "metadata": {},
   "source": [
    "# Model and optim"
   ]
  },
  {
   "cell_type": "code",
   "execution_count": 6,
   "metadata": {},
   "outputs": [],
   "source": [
    "learning_rate = 5e-4"
   ]
  },
  {
   "cell_type": "code",
   "execution_count": 7,
   "metadata": {},
   "outputs": [],
   "source": [
    "device = torch.device('cuda') if torch.cuda.is_available() else torch.device('cpu')\n",
    "\n",
    "LaneNet_model = Lanenet(2, 4)\n",
    "LaneNet_model.to(device)\n",
    "\n",
    "params = [p for p in LaneNet_model.parameters() if p.requires_grad]\n",
    "optimizer = torch.optim.Adam(params, lr=learning_rate, weight_decay=0.0002)\n",
    "\n",
    "lr_scheduler = torch.optim.lr_scheduler.StepLR(optimizer, step_size=10, gamma=0.1)"
   ]
  },
  {
   "cell_type": "code",
   "execution_count": 8,
   "metadata": {},
   "outputs": [],
   "source": [
    "num_epochs = 30"
   ]
  },
  {
   "cell_type": "code",
   "execution_count": 9,
   "metadata": {},
   "outputs": [],
   "source": [
    "from Lanenet.cluster_loss3 import cluster_loss\n",
    "criterion = cluster_loss()\n",
    "# criterion = torch.nn.CrossEntropyLoss(weight=torch.tensor([ 1.4393, 27.7296]).cuda())"
   ]
  },
  {
   "cell_type": "code",
   "execution_count": 10,
   "metadata": {},
   "outputs": [],
   "source": [
    "from torch.autograd import Variable"
   ]
  },
  {
   "cell_type": "code",
   "execution_count": 11,
   "metadata": {},
   "outputs": [
    {
     "name": "stdout",
     "output_type": "stream",
     "text": [
      "epoch[0] iter[0] loss: [0.7530289888381958, 9.256881713867188] \n",
      "epoch[0] iter[20] loss: [0.5697964429855347, 7.709800720214844] \n",
      "epoch[0] iter[40] loss: [0.42561885714530945, 4.542596340179443] \n",
      "Finish epoch[0], time elapsed[36.44971323013306]\n",
      "epoch[1] iter[0] loss: [0.3955254852771759, 3.320457935333252] \n",
      "epoch[1] iter[20] loss: [0.28516489267349243, 2.8357832431793213] \n",
      "epoch[1] iter[40] loss: [0.23882745206356049, 1.999981164932251] \n",
      "Finish epoch[1], time elapsed[35.85124397277832]\n",
      "epoch[2] iter[0] loss: [0.21853896975517273, 2.4046168327331543] \n",
      "epoch[2] iter[20] loss: [0.19768239557743073, 2.7204604148864746] \n",
      "epoch[2] iter[40] loss: [0.1631418615579605, 1.6718729734420776] \n",
      "Finish epoch[2], time elapsed[35.77337694168091]\n",
      "epoch[3] iter[0] loss: [0.1433662325143814, 1.9678171873092651] \n",
      "epoch[3] iter[20] loss: [0.13130708038806915, 1.2759093046188354] \n",
      "epoch[3] iter[40] loss: [0.09495431929826736, 0.8929114937782288] \n",
      "Finish epoch[3], time elapsed[35.79238438606262]\n",
      "epoch[4] iter[0] loss: [0.1065569818019867, 0.9570515751838684] \n",
      "epoch[4] iter[20] loss: [0.08238601684570312, 0.5064577460289001] \n",
      "epoch[4] iter[40] loss: [0.0797857865691185, 0.49187982082366943] \n",
      "Finish epoch[4], time elapsed[36.548452854156494]\n",
      "epoch[5] iter[0] loss: [0.08347534388303757, 0.5834577679634094] \n",
      "epoch[5] iter[20] loss: [0.08292767405509949, 0.6542744040489197] \n",
      "epoch[5] iter[40] loss: [0.06851903349161148, 0.4835304021835327] \n",
      "Finish epoch[5], time elapsed[35.85721945762634]\n",
      "epoch[6] iter[0] loss: [0.06951601058244705, 0.8088458776473999] \n",
      "epoch[6] iter[20] loss: [0.0742708295583725, nan] \n",
      "epoch[6] iter[40] loss: [0.06488924473524094, 0.4849264919757843] \n",
      "Finish epoch[6], time elapsed[35.919856548309326]\n",
      "epoch[7] iter[0] loss: [0.05590879172086716, 0.8917157649993896] \n",
      "epoch[7] iter[20] loss: [0.07129721343517303, 0.3615894913673401] \n",
      "epoch[7] iter[40] loss: [0.06832626461982727, 0.46752819418907166] \n",
      "Finish epoch[7], time elapsed[37.039469480514526]\n",
      "epoch[8] iter[0] loss: [0.04875742271542549, 0.6932412385940552] \n",
      "epoch[8] iter[20] loss: [0.06345176696777344, 0.36472833156585693] \n",
      "epoch[8] iter[40] loss: [0.06431474536657333, 0.46500906348228455] \n",
      "Finish epoch[8], time elapsed[37.58387804031372]\n",
      "epoch[9] iter[0] loss: [0.058457840234041214, 0.36849355697631836] \n",
      "epoch[9] iter[20] loss: [0.059039220213890076, 0.39584654569625854] \n",
      "epoch[9] iter[40] loss: [0.042268868535757065, 0.2408253252506256] \n",
      "Finish epoch[9], time elapsed[36.82412099838257]\n",
      "epoch[10] iter[0] loss: [0.048174407333135605, 0.4038722515106201] \n",
      "epoch[10] iter[20] loss: [0.051784563809633255, 0.3602297008037567] \n",
      "epoch[10] iter[40] loss: [0.0629500299692154, 0.44122812151908875] \n",
      "Finish epoch[10], time elapsed[38.20293617248535]\n",
      "epoch[11] iter[0] loss: [0.05450990051031113, 0.3602113425731659] \n",
      "epoch[11] iter[20] loss: [0.059490762650966644, 0.3114933967590332] \n",
      "epoch[11] iter[40] loss: [0.04116437956690788, 0.2269192636013031] \n",
      "Finish epoch[11], time elapsed[36.797836780548096]\n",
      "epoch[12] iter[0] loss: [0.05419747903943062, 0.2450888454914093] \n",
      "epoch[12] iter[20] loss: [0.0452980175614357, 0.4442254304885864] \n",
      "epoch[12] iter[40] loss: [0.05928381532430649, 0.3691943287849426] \n",
      "Finish epoch[12], time elapsed[38.273295164108276]\n",
      "epoch[13] iter[0] loss: [0.044923510402441025, 0.26923543214797974] \n",
      "epoch[13] iter[20] loss: [0.04445558041334152, 0.3037373721599579] \n",
      "epoch[13] iter[40] loss: [0.04701844975352287, 0.4276552200317383] \n",
      "Finish epoch[13], time elapsed[36.4213593006134]\n",
      "epoch[14] iter[0] loss: [0.04094526916742325, 0.2577418386936188] \n",
      "epoch[14] iter[20] loss: [0.04729178175330162, 0.3160497546195984] \n",
      "epoch[14] iter[40] loss: [0.07555828243494034, 0.6737046241760254] \n",
      "Finish epoch[14], time elapsed[36.23672914505005]\n",
      "epoch[15] iter[0] loss: [0.048058558255434036, 0.30796509981155396] \n",
      "epoch[15] iter[20] loss: [0.03975199535489082, 0.40061986446380615] \n",
      "epoch[15] iter[40] loss: [0.0505002923309803, 0.347778856754303] \n",
      "Finish epoch[15], time elapsed[35.87615251541138]\n",
      "epoch[16] iter[0] loss: [0.045656684786081314, 0.3883855938911438] \n",
      "epoch[16] iter[20] loss: [0.045568179339170456, 0.2931879460811615] \n",
      "epoch[16] iter[40] loss: [0.06017830967903137, 0.2897264361381531] \n",
      "Finish epoch[16], time elapsed[35.94069027900696]\n",
      "epoch[17] iter[0] loss: [0.04289662837982178, 0.2183336466550827] \n",
      "epoch[17] iter[20] loss: [0.04190104827284813, 0.2969631552696228] \n",
      "epoch[17] iter[40] loss: [0.04019152745604515, 0.23433144390583038] \n",
      "Finish epoch[17], time elapsed[35.80001449584961]\n",
      "epoch[18] iter[0] loss: [0.047763679176568985, 0.31349021196365356] \n",
      "epoch[18] iter[20] loss: [0.045698098838329315, 0.23034682869911194] \n",
      "epoch[18] iter[40] loss: [0.05511527508497238, nan] \n",
      "Finish epoch[18], time elapsed[35.86764883995056]\n",
      "epoch[19] iter[0] loss: [0.052569158375263214, 0.33206596970558167] \n",
      "epoch[19] iter[20] loss: [0.04640619829297066, 0.31832215189933777] \n",
      "epoch[19] iter[40] loss: [0.040652595460414886, 0.3136603534221649] \n",
      "Finish epoch[19], time elapsed[35.86585831642151]\n",
      "epoch[20] iter[0] loss: [0.04584314674139023, 0.28264111280441284] \n",
      "epoch[20] iter[20] loss: [0.05063612759113312, 0.29724210500717163] \n",
      "epoch[20] iter[40] loss: [0.040165167301893234, 0.18862205743789673] \n",
      "Finish epoch[20], time elapsed[35.892770767211914]\n",
      "epoch[21] iter[0] loss: [0.04013417661190033, 0.2606702446937561] \n",
      "epoch[21] iter[20] loss: [0.03777984157204628, 0.25519272685050964] \n",
      "epoch[21] iter[40] loss: [0.041189044713974, 0.251691997051239] \n",
      "Finish epoch[21], time elapsed[35.78602337837219]\n",
      "epoch[22] iter[0] loss: [0.03982852026820183, 0.24376581609249115] \n",
      "epoch[22] iter[20] loss: [0.04081778973340988, 0.18718473613262177] \n",
      "epoch[22] iter[40] loss: [0.03695947304368019, 0.19079960882663727] \n",
      "Finish epoch[22], time elapsed[37.54961681365967]\n",
      "epoch[23] iter[0] loss: [0.039020806550979614, 0.20924365520477295] \n",
      "epoch[23] iter[20] loss: [0.04581878334283829, 0.2867910861968994] \n",
      "epoch[23] iter[40] loss: [0.039634186774492264, 0.3055999279022217] \n",
      "Finish epoch[23], time elapsed[35.85514259338379]\n",
      "epoch[24] iter[0] loss: [0.045604683458805084, 0.40237611532211304] \n",
      "epoch[24] iter[20] loss: [0.04509560018777847, 0.17269133031368256] \n",
      "epoch[24] iter[40] loss: [0.062112338840961456, 0.39948946237564087] \n",
      "Finish epoch[24], time elapsed[35.86600661277771]\n",
      "epoch[25] iter[0] loss: [0.04199837148189545, 0.33991920948028564] \n",
      "epoch[25] iter[20] loss: [0.040148667991161346, 0.23652708530426025] \n",
      "epoch[25] iter[40] loss: [0.04233879968523979, 0.46088284254074097] \n",
      "Finish epoch[25], time elapsed[36.01601982116699]\n",
      "epoch[26] iter[0] loss: [0.04603979364037514, nan] \n",
      "epoch[26] iter[20] loss: [0.04003479704260826, 0.20619772374629974] \n",
      "epoch[26] iter[40] loss: [0.04794776812195778, 0.20202955603599548] \n",
      "Finish epoch[26], time elapsed[35.859148263931274]\n",
      "epoch[27] iter[0] loss: [0.04243267700076103, 0.23190468549728394] \n",
      "epoch[27] iter[20] loss: [0.07231130450963974, 0.33934473991394043] \n",
      "epoch[27] iter[40] loss: [0.05396335572004318, 0.43956074118614197] \n",
      "Finish epoch[27], time elapsed[36.11566948890686]\n",
      "epoch[28] iter[0] loss: [0.044387076050043106, 0.3975723683834076] \n",
      "epoch[28] iter[20] loss: [0.05270984768867493, 0.30118218064308167] \n",
      "epoch[28] iter[40] loss: [0.05383044481277466, 0.35295945405960083] \n",
      "Finish epoch[28], time elapsed[35.871878147125244]\n",
      "epoch[29] iter[0] loss: [0.04490981251001358, 0.3408340811729431] \n",
      "epoch[29] iter[20] loss: [0.048736777156591415, 0.2584289014339447] \n",
      "epoch[29] iter[40] loss: [0.058954283595085144, 0.4375816583633423] \n",
      "Finish epoch[29], time elapsed[35.833170890808105]\n"
     ]
    }
   ],
   "source": [
    "loss_all = []\n",
    "for epoch in range(num_epochs):\n",
    "    LaneNet_model.train()\n",
    "    ts = time.time()\n",
    "    for iter, batch in enumerate(data_loader_train):\n",
    "        input_image = Variable(batch[0]).to(device)\n",
    "        binary_labels = Variable(batch[1]).to(device)\n",
    "        instance_labels = Variable(batch[2]).to(device)\n",
    "        \n",
    "        binary_final_logits, instance_embedding = LaneNet_model(input_image)\n",
    "        # loss = LaneNet_model.compute_loss(binary_logits=binary_final_logits, binary_labels=binary_labels,\n",
    "        #                               instance_logits=instance_embedding, instance_labels=instance_labels, delta_v=0.5, delta_d=3)\n",
    "        binary_segmenatation_loss, instance_segmenatation_loss = criterion(binary_logits=binary_final_logits, binary_labels=binary_labels,\n",
    "                                       instance_logits=instance_embedding, instance_labels=instance_labels, delta_v=0.5, delta_d=3)\n",
    "        \n",
    "        # binary_segmenatation_loss = criterion(binary_final_logits, binary_labels)\n",
    "        loss = 1*binary_segmenatation_loss + 1*instance_segmenatation_loss\n",
    "        optimizer.zero_grad()\n",
    "        loss_all.append(loss.item())\n",
    "        loss.backward()\n",
    "        optimizer.step()\n",
    "        \n",
    "        if iter % 20 == 0:\n",
    "            print(\"epoch[{}] iter[{}] loss: [{}, {}] \".format(epoch, iter, binary_segmenatation_loss.item(), instance_segmenatation_loss.item()))\n",
    "    lr_scheduler.step()\n",
    "    print(\"Finish epoch[{}], time elapsed[{}]\".format(epoch, time.time() - ts))\n",
    "    torch.save(LaneNet_model.state_dict(), \n",
    "                       f\"TUSIMPLE/Lanenet_output/lanenet_epoch_{epoch}_batch_{8}.model\")"
   ]
  },
  {
   "cell_type": "markdown",
   "metadata": {},
   "source": [
    "## Show the Loss"
   ]
  },
  {
   "cell_type": "code",
   "execution_count": 12,
   "metadata": {},
   "outputs": [
    {
     "data": {
      "text/plain": [
       "[<matplotlib.lines.Line2D at 0x7fb67f4eb400>]"
      ]
     },
     "execution_count": 12,
     "metadata": {},
     "output_type": "execute_result"
    },
    {
     "data": {
      "image/png": "[encoded data removed]",
      "text/plain": [
       "<Figure size 432x288 with 1 Axes>"
      ]
     },
     "metadata": {
      "needs_background": "light"
     },
     "output_type": "display_data"
    }
   ],
   "source": [
    "import matplotlib.pylab as plt\n",
    "plt.plot(loss_all)"
   ]
  },
  {
   "cell_type": "code",
   "execution_count": null,
   "metadata": {},
   "outputs": [],
   "source": []
  },
  {
   "cell_type": "code",
   "execution_count": null,
   "metadata": {},
   "outputs": [],
   "source": []
  },
  {
   "cell_type": "code",
   "execution_count": null,
   "metadata": {},
   "outputs": [],
   "source": []
  }
 ],
 "metadata": {
  "kernelspec": {
   "display_name": "Python 3",
   "language": "python",
   "name": "python3"
  },
  "language_info": {
   "codemirror_mode": {
    "name": "ipython",
    "version": 3
   },
   "file_extension": ".py",
   "mimetype": "text/x-python",
   "name": "python",
   "nbconvert_exporter": "python",
   "pygments_lexer": "ipython3",
   "version": "3.6.9"
  }
 },
 "nbformat": 4,
 "nbformat_minor": 2
}

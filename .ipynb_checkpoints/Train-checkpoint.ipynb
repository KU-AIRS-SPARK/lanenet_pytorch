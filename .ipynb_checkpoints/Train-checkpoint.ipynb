{
 "cells": [
  {
   "cell_type": "code",
   "execution_count": 1,
   "metadata": {},
   "outputs": [],
   "source": [
    "import torch\n",
    "import time\n",
    "from dataset.dataset_utils import TUSIMPLE\n",
    "from Lanenet.model2 import Lanenet"
   ]
  },
  {
   "cell_type": "markdown",
   "metadata": {},
   "source": [
    "# define the dataset"
   ]
  },
  {
   "cell_type": "code",
   "execution_count": 2,
   "metadata": {},
   "outputs": [
    {
     "name": "stdout",
     "output_type": "stream",
     "text": [
      "train_set length 40\n",
      "valid_set length 4\n",
      "test_set length 5\n"
     ]
    }
   ],
   "source": [
    "# root = '/Users/smiffy/Documents/GitHub/TUSIMPLE/Data_Tusimple_PyTorch/training'\n",
    "root = './TUSIMPLE/txt_for_local'\n",
    "train_set = TUSIMPLE(root=root, flag='train')\n",
    "valid_set = TUSIMPLE(root=root, flag='valid')\n",
    "test_set = TUSIMPLE(root=root, flag='test')\n",
    "\n",
    "print('train_set length {}'.format(len(train_set)))\n",
    "print('valid_set length {}'.format(len(valid_set)))\n",
    "print('test_set length {}'.format(len(test_set)))"
   ]
  },
  {
   "cell_type": "code",
   "execution_count": 13,
   "metadata": {},
   "outputs": [],
   "source": [
    "import cv2\n",
    "img = \"../TUSIMPLE/training/gt_binary_image/0026.png\"\n",
    "img = img[1:]\n",
    "resize=(512, 256)\n",
    "gt_image = cv2.imread(img, cv2.IMREAD_UNCHANGED)\n",
    "gt_image = cv2.resize(gt_image, dsize=resize, interpolation=cv2.INTER_LINEAR)"
   ]
  },
  {
   "cell_type": "code",
   "execution_count": 14,
   "metadata": {},
   "outputs": [
    {
     "name": "stdout",
     "output_type": "stream",
     "text": [
      "../TUSIMPLE/training/gt_binary_image/0026.png\n"
     ]
    },
    {
     "ename": "IndexError",
     "evalue": "list index out of range",
     "output_type": "error",
     "traceback": [
      "\u001b[0;31m---------------------------------------------------------------------------\u001b[0m",
      "\u001b[0;31mIndexError\u001b[0m                                Traceback (most recent call last)",
      "\u001b[0;32m<ipython-input-14-0bbe4cc134b3>\u001b[0m in \u001b[0;36m<module>\u001b[0;34m\u001b[0m\n\u001b[0;32m----> 1\u001b[0;31m \u001b[0mgt\u001b[0m\u001b[0;34m,\u001b[0m \u001b[0mbgt\u001b[0m\u001b[0;34m,\u001b[0m \u001b[0migt\u001b[0m \u001b[0;34m=\u001b[0m \u001b[0mtrain_set\u001b[0m\u001b[0;34m[\u001b[0m\u001b[0;36m0\u001b[0m\u001b[0;34m]\u001b[0m\u001b[0;34m\u001b[0m\u001b[0;34m\u001b[0m\u001b[0m\n\u001b[0m\u001b[1;32m      2\u001b[0m \u001b[0mprint\u001b[0m\u001b[0;34m(\u001b[0m\u001b[0;34m'image type {}'\u001b[0m\u001b[0;34m.\u001b[0m\u001b[0mformat\u001b[0m\u001b[0;34m(\u001b[0m\u001b[0mtype\u001b[0m\u001b[0;34m(\u001b[0m\u001b[0mgt\u001b[0m\u001b[0;34m)\u001b[0m\u001b[0;34m)\u001b[0m\u001b[0;34m)\u001b[0m\u001b[0;34m\u001b[0m\u001b[0;34m\u001b[0m\u001b[0m\n\u001b[1;32m      3\u001b[0m \u001b[0mprint\u001b[0m\u001b[0;34m(\u001b[0m\u001b[0;34m'image size {} \\n'\u001b[0m\u001b[0;34m.\u001b[0m\u001b[0mformat\u001b[0m\u001b[0;34m(\u001b[0m\u001b[0mgt\u001b[0m\u001b[0;34m.\u001b[0m\u001b[0msize\u001b[0m\u001b[0;34m(\u001b[0m\u001b[0;34m)\u001b[0m\u001b[0;34m)\u001b[0m\u001b[0;34m)\u001b[0m\u001b[0;34m\u001b[0m\u001b[0;34m\u001b[0m\u001b[0m\n\u001b[1;32m      4\u001b[0m \u001b[0;34m\u001b[0m\u001b[0m\n\u001b[1;32m      5\u001b[0m \u001b[0mprint\u001b[0m\u001b[0;34m(\u001b[0m\u001b[0;34m'gt binary image type {}'\u001b[0m\u001b[0;34m.\u001b[0m\u001b[0mformat\u001b[0m\u001b[0;34m(\u001b[0m\u001b[0mtype\u001b[0m\u001b[0;34m(\u001b[0m\u001b[0mbgt\u001b[0m\u001b[0;34m)\u001b[0m\u001b[0;34m)\u001b[0m\u001b[0;34m)\u001b[0m\u001b[0;34m\u001b[0m\u001b[0;34m\u001b[0m\u001b[0m\n",
      "\u001b[0;32m~/PycharmProjects/lanenet_pytorch/dataset/dataset_utils.py\u001b[0m in \u001b[0;36m__getitem__\u001b[0;34m(self, idx)\u001b[0m\n\u001b[1;32m     43\u001b[0m         \u001b[0mgt_image\u001b[0m \u001b[0;34m=\u001b[0m \u001b[0mcv2\u001b[0m\u001b[0;34m.\u001b[0m\u001b[0mimread\u001b[0m\u001b[0;34m(\u001b[0m\u001b[0mself\u001b[0m\u001b[0;34m.\u001b[0m\u001b[0mimg_pathes\u001b[0m\u001b[0;34m[\u001b[0m\u001b[0midx\u001b[0m\u001b[0;34m]\u001b[0m\u001b[0;34m[\u001b[0m\u001b[0;36m0\u001b[0m\u001b[0;34m]\u001b[0m\u001b[0;34m,\u001b[0m \u001b[0mcv2\u001b[0m\u001b[0;34m.\u001b[0m\u001b[0mIMREAD_UNCHANGED\u001b[0m\u001b[0;34m)\u001b[0m\u001b[0;34m\u001b[0m\u001b[0;34m\u001b[0m\u001b[0m\n\u001b[1;32m     44\u001b[0m         \u001b[0mgt_binary_image\u001b[0m \u001b[0;34m=\u001b[0m \u001b[0mcv2\u001b[0m\u001b[0;34m.\u001b[0m\u001b[0mimread\u001b[0m\u001b[0;34m(\u001b[0m\u001b[0mself\u001b[0m\u001b[0;34m.\u001b[0m\u001b[0mimg_pathes\u001b[0m\u001b[0;34m[\u001b[0m\u001b[0midx\u001b[0m\u001b[0;34m]\u001b[0m\u001b[0;34m[\u001b[0m\u001b[0;36m1\u001b[0m\u001b[0;34m]\u001b[0m\u001b[0;34m,\u001b[0m \u001b[0mcv2\u001b[0m\u001b[0;34m.\u001b[0m\u001b[0mIMREAD_UNCHANGED\u001b[0m\u001b[0;34m)\u001b[0m\u001b[0;34m\u001b[0m\u001b[0;34m\u001b[0m\u001b[0m\n\u001b[0;32m---> 45\u001b[0;31m         \u001b[0mgt_instance\u001b[0m \u001b[0;34m=\u001b[0m \u001b[0mcv2\u001b[0m\u001b[0;34m.\u001b[0m\u001b[0mimread\u001b[0m\u001b[0;34m(\u001b[0m\u001b[0mself\u001b[0m\u001b[0;34m.\u001b[0m\u001b[0mimg_pathes\u001b[0m\u001b[0;34m[\u001b[0m\u001b[0midx\u001b[0m\u001b[0;34m]\u001b[0m\u001b[0;34m[\u001b[0m\u001b[0;36m2\u001b[0m\u001b[0;34m]\u001b[0m\u001b[0;34m,\u001b[0m \u001b[0mcv2\u001b[0m\u001b[0;34m.\u001b[0m\u001b[0mIMREAD_UNCHANGED\u001b[0m\u001b[0;34m)\u001b[0m\u001b[0;34m\u001b[0m\u001b[0;34m\u001b[0m\u001b[0m\n\u001b[0m\u001b[1;32m     46\u001b[0m \u001b[0;34m\u001b[0m\u001b[0m\n\u001b[1;32m     47\u001b[0m         \u001b[0mgt_image\u001b[0m \u001b[0;34m=\u001b[0m \u001b[0mcv2\u001b[0m\u001b[0;34m.\u001b[0m\u001b[0mresize\u001b[0m\u001b[0;34m(\u001b[0m\u001b[0mgt_image\u001b[0m\u001b[0;34m,\u001b[0m \u001b[0mdsize\u001b[0m\u001b[0;34m=\u001b[0m\u001b[0mself\u001b[0m\u001b[0;34m.\u001b[0m\u001b[0mresize\u001b[0m\u001b[0;34m,\u001b[0m \u001b[0minterpolation\u001b[0m\u001b[0;34m=\u001b[0m\u001b[0mcv2\u001b[0m\u001b[0;34m.\u001b[0m\u001b[0mINTER_LINEAR\u001b[0m\u001b[0;34m)\u001b[0m\u001b[0;34m\u001b[0m\u001b[0;34m\u001b[0m\u001b[0m\n",
      "\u001b[0;31mIndexError\u001b[0m: list index out of range"
     ]
    }
   ],
   "source": [
    "gt, bgt, igt = train_set[0]\n",
    "print('image type {}'.format(type(gt)))\n",
    "print('image size {} \\n'.format(gt.size()))\n",
    "\n",
    "print('gt binary image type {}'.format(type(bgt)))\n",
    "print('gt binary image size {}'.format(bgt.size()))\n",
    "print('items in gt binary image {} \\n'.format(torch.unique(bgt)))\n",
    "\n",
    "print('gt instance type {}'.format(type(igt)))\n",
    "print('gt instance size {}'.format(igt.size()))\n",
    "print('items in gt instance {} \\n'.format(torch.unique(igt)))"
   ]
  },
  {
   "cell_type": "markdown",
   "metadata": {},
   "source": [
    "# DataLoader"
   ]
  },
  {
   "cell_type": "code",
   "execution_count": 4,
   "metadata": {},
   "outputs": [],
   "source": [
    "batch_size = 8"
   ]
  },
  {
   "cell_type": "code",
   "execution_count": 5,
   "metadata": {},
   "outputs": [],
   "source": [
    "data_loader_train = torch.utils.data.DataLoader(train_set, batch_size=batch_size, shuffle=True, num_workers=0)\n",
    "data_loader_valid = torch.utils.data.DataLoader(valid_set, batch_size=1, shuffle=True, num_workers=0)\n",
    "data_loader_test = torch.utils.data.DataLoader(test_set, batch_size=1, shuffle=False, num_workers=0)"
   ]
  },
  {
   "cell_type": "markdown",
   "metadata": {},
   "source": [
    "# Model and optim"
   ]
  },
  {
   "cell_type": "code",
   "execution_count": 6,
   "metadata": {},
   "outputs": [],
   "source": [
    "learning_rate = 5e-4"
   ]
  },
  {
   "cell_type": "code",
   "execution_count": 7,
   "metadata": {},
   "outputs": [],
   "source": [
    "device = torch.device('cuda') if torch.cuda.is_available() else torch.device('cpu')\n",
    "\n",
    "LaneNet_model = Lanenet(2, 4)\n",
    "LaneNet_model.to(device)\n",
    "\n",
    "params = [p for p in LaneNet_model.parameters() if p.requires_grad]\n",
    "optimizer = torch.optim.Adam(params, lr=learning_rate, weight_decay=0.0002)\n",
    "\n",
    "lr_scheduler = torch.optim.lr_scheduler.StepLR(optimizer, step_size=10, gamma=0.1)"
   ]
  },
  {
   "cell_type": "code",
   "execution_count": 8,
   "metadata": {},
   "outputs": [],
   "source": [
    "num_epochs = 30"
   ]
  },
  {
   "cell_type": "code",
   "execution_count": 9,
   "metadata": {},
   "outputs": [],
   "source": [
    "from Lanenet.cluster_loss3 import cluster_loss\n",
    "criterion = cluster_loss()\n",
    "# criterion = torch.nn.CrossEntropyLoss(weight=torch.tensor([ 1.4393, 27.7296]).cuda())"
   ]
  },
  {
   "cell_type": "code",
   "execution_count": 10,
   "metadata": {},
   "outputs": [],
   "source": [
    "from torch.autograd import Variable"
   ]
  },
  {
   "cell_type": "code",
   "execution_count": null,
   "metadata": {},
   "outputs": [
    {
     "name": "stdout",
     "output_type": "stream",
     "text": [
      "epoch[0] iter[0] loss: [0.8659175038337708, 9.111285209655762] \n",
      "epoch[0] iter[20] loss: [0.6285730600357056, 7.761471271514893] \n",
      "epoch[0] iter[40] loss: [0.5172833204269409, 5.034451484680176] \n",
      "epoch[0] iter[60] loss: [0.4532766342163086, 5.140806674957275] \n",
      "epoch[0] iter[80] loss: [0.372476726770401, 3.4883131980895996] \n",
      "epoch[0] iter[100] loss: [0.3155496418476105, 2.863431453704834] \n",
      "epoch[0] iter[120] loss: [0.2999386191368103, 2.5108258724212646] \n",
      "epoch[0] iter[140] loss: [0.2719608247280121, 2.1826858520507812] \n",
      "epoch[0] iter[160] loss: [0.27830973267555237, 1.9482221603393555] \n",
      "epoch[0] iter[180] loss: [0.27905669808387756, 1.9629347324371338] \n",
      "epoch[0] iter[200] loss: [0.22530262172222137, 1.6794102191925049] \n",
      "epoch[0] iter[220] loss: [0.22116416692733765, 1.3042733669281006] \n",
      "epoch[0] iter[240] loss: [0.22360296547412872, 1.8550697565078735] \n",
      "epoch[0] iter[260] loss: [0.21228934824466705, 1.3262882232666016] \n",
      "epoch[0] iter[280] loss: [0.22105301916599274, 1.2469335794448853] \n",
      "epoch[0] iter[300] loss: [0.20043577253818512, 1.126826524734497] \n",
      "epoch[0] iter[320] loss: [0.20158810913562775, 0.875086784362793] \n",
      "epoch[0] iter[340] loss: [0.20166592299938202, 0.8888162970542908] \n",
      "epoch[0] iter[360] loss: [0.1966753900051117, 0.7479429841041565] \n",
      "Finish epoch[0], time elapsed[225.4682960510254]\n",
      "epoch[1] iter[0] loss: [0.19874238967895508, 0.9215028882026672] \n",
      "epoch[1] iter[20] loss: [0.19416098296642303, 0.8132017850875854] \n",
      "epoch[1] iter[40] loss: [0.17150568962097168, 0.799970269203186] \n",
      "epoch[1] iter[60] loss: [0.18345089256763458, 0.7740330100059509] \n",
      "epoch[1] iter[80] loss: [0.2242799550294876, 0.9481494426727295] \n",
      "epoch[1] iter[100] loss: [0.1918325424194336, 0.580417811870575] \n",
      "epoch[1] iter[120] loss: [0.16815713047981262, 0.8903748393058777] \n",
      "epoch[1] iter[140] loss: [0.18869566917419434, 0.6946035623550415] \n",
      "epoch[1] iter[160] loss: [0.2122078835964203, 0.6762888431549072] \n",
      "epoch[1] iter[180] loss: [0.19666849076747894, 0.6373783349990845] \n",
      "epoch[1] iter[200] loss: [0.18673409521579742, 0.844110369682312] \n"
     ]
    }
   ],
   "source": [
    "loss_all = []\n",
    "for epoch in range(num_epochs):\n",
    "    LaneNet_model.train()\n",
    "    ts = time.time()\n",
    "    for iter, batch in enumerate(data_loader_train):\n",
    "        input_image = Variable(batch[0]).to(device)\n",
    "        binary_labels = Variable(batch[1]).to(device)\n",
    "        instance_labels = Variable(batch[2]).to(device)\n",
    "        \n",
    "        binary_final_logits, instance_embedding = LaneNet_model(input_image)\n",
    "        # loss = LaneNet_model.compute_loss(binary_logits=binary_final_logits, binary_labels=binary_labels,\n",
    "        #                               instance_logits=instance_embedding, instance_labels=instance_labels, delta_v=0.5, delta_d=3)\n",
    "        binary_segmenatation_loss, instance_segmenatation_loss = criterion(binary_logits=binary_final_logits, binary_labels=binary_labels,\n",
    "                                       instance_logits=instance_embedding, instance_labels=instance_labels, delta_v=0.5, delta_d=3)\n",
    "        \n",
    "        # binary_segmenatation_loss = criterion(binary_final_logits, binary_labels)\n",
    "        loss = 1*binary_segmenatation_loss + 1*instance_segmenatation_loss\n",
    "        optimizer.zero_grad()\n",
    "        loss_all.append(loss.item())\n",
    "        loss.backward()\n",
    "        optimizer.step()\n",
    "        \n",
    "        if iter % 20 == 0:\n",
    "            print(\"epoch[{}] iter[{}] loss: [{}, {}] \".format(epoch, iter, binary_segmenatation_loss.item(), instance_segmenatation_loss.item()))\n",
    "    lr_scheduler.step()\n",
    "    print(\"Finish epoch[{}], time elapsed[{}]\".format(epoch, time.time() - ts))\n",
    "    torch.save(LaneNet_model.state_dict(), \n",
    "                       f\"TUSIMPLE/Lanenet_output/lanenet_epoch_{epoch}_batch_{8}.model\")"
   ]
  },
  {
   "cell_type": "markdown",
   "metadata": {},
   "source": [
    "## Show the Loss"
   ]
  },
  {
   "cell_type": "code",
   "execution_count": 22,
   "metadata": {},
   "outputs": [
    {
     "data": {
      "text/plain": [
       "[<matplotlib.lines.Line2D at 0x7fba09211610>]"
      ]
     },
     "execution_count": 22,
     "metadata": {},
     "output_type": "execute_result"
    },
    {
     "data": {
      "image/png": "[encoded data removed]",
      "text/plain": [
       "<Figure size 432x288 with 1 Axes>"
      ]
     },
     "metadata": {
      "needs_background": "light"
     },
     "output_type": "display_data"
    }
   ],
   "source": [
    "import matplotlib.pylab as plt\n",
    "plt.plot(loss_all)"
   ]
  },
  {
   "cell_type": "code",
   "execution_count": null,
   "metadata": {},
   "outputs": [],
   "source": []
  },
  {
   "cell_type": "code",
   "execution_count": null,
   "metadata": {},
   "outputs": [],
   "source": []
  },
  {
   "cell_type": "code",
   "execution_count": null,
   "metadata": {},
   "outputs": [],
   "source": []
  }
 ],
 "metadata": {
  "kernelspec": {
   "display_name": "Python 3",
   "language": "python",
   "name": "python3"
  },
  "language_info": {
   "codemirror_mode": {
    "name": "ipython",
    "version": 3
   },
   "file_extension": ".py",
   "mimetype": "text/x-python",
   "name": "python",
   "nbconvert_exporter": "python",
   "pygments_lexer": "ipython3",
   "version": "3.6.9"
  }
 },
 "nbformat": 4,
 "nbformat_minor": 2
}
